{
 "cells": [
  {
   "cell_type": "markdown",
   "metadata": {},
   "source": [
    "# Clustering Top 50 Most Populated Cities In The United States"
   ]
  },
  {
   "cell_type": "markdown",
   "metadata": {},
   "source": [
    "A description of the problem and a discussion of the background. (15 marks)\n",
    "A description of the data and how it will be used to solve the problem. (15 marks)"
   ]
  },
  {
   "cell_type": "markdown",
   "metadata": {},
   "source": [
    "## Introduction"
   ]
  },
  {
   "cell_type": "markdown",
   "metadata": {},
   "source": [
    "Looking into moving to a similar city in the US? Trying to find a totally different city to live? Or trying to expand the business, open the next chain store, but don't know which city to start? This study clusters the top 50 most populated cities in the US by their most common business types. The study will help people to have ideas about which cities to explore, and for business owners to evaluate which cities to expand their stores."
   ]
  },
  {
   "cell_type": "markdown",
   "metadata": {},
   "source": [
    "## Data"
   ]
  },
  {
   "cell_type": "markdown",
   "metadata": {},
   "source": [
    "The population ranking of the cities in the US can be found on Wikipedia. The coordinates of the cites can be located from Python module \"Geopy\". The Foursquare API will be used to find the venues and business types in each city. K-mean clustering will be used for clustering the cities by their most common business types. Similar cities and different cities can be identified after K-mean clustering is performed."
   ]
  }
 ],
 "metadata": {
  "kernelspec": {
   "display_name": "Python",
   "language": "python",
   "name": "conda-env-python-py"
  },
  "language_info": {
   "codemirror_mode": {
    "name": "ipython",
    "version": 3
   },
   "file_extension": ".py",
   "mimetype": "text/x-python",
   "name": "python",
   "nbconvert_exporter": "python",
   "pygments_lexer": "ipython3",
   "version": "3.6.10"
  }
 },
 "nbformat": 4,
 "nbformat_minor": 4
}
