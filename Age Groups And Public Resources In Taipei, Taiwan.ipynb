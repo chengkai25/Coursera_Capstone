{
 "cells": [
  {
   "cell_type": "markdown",
   "metadata": {},
   "source": [
    "# Age Groups And Public Resources In Taipei, Taiwan"
   ]
  },
  {
   "cell_type": "markdown",
   "metadata": {},
   "source": [
    "## 1. Introduction"
   ]
  },
  {
   "cell_type": "markdown",
   "metadata": {},
   "source": [
    "As the biggest city in Taiwan, Taipei has been one of the the economic and cultural centers in Southeast Asia. People from others cities are moving into Taipei to seek for jobs, better healthcare, and more diverted retirement lives. Understanding the age group in different areas in Taipei will help the city government to do better jobs in policy making.\n",
    "\n",
    "In this study, we will analyze the age groups in Taipei, and look into public transits, healthcare, schools in the city, and find if more resources are needed for certain age groups in different areas.\n"
   ]
  },
  {
   "cell_type": "code",
   "execution_count": null,
   "metadata": {},
   "outputs": [],
   "source": []
  }
 ],
 "metadata": {
  "kernelspec": {
   "display_name": "Python",
   "language": "python",
   "name": "conda-env-python-py"
  },
  "language_info": {
   "codemirror_mode": {
    "name": "ipython",
    "version": 3
   },
   "file_extension": ".py",
   "mimetype": "text/x-python",
   "name": "python",
   "nbconvert_exporter": "python",
   "pygments_lexer": "ipython3",
   "version": "3.6.10"
  }
 },
 "nbformat": 4,
 "nbformat_minor": 4
}
